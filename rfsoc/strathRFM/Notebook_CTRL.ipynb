{
 "cells": [
  {
   "cell_type": "markdown",
   "id": "ca074c86-1b6a-43d5-91bc-563a140f8f22",
   "metadata": {},
   "source": [
    "python /home/xilinx/jupyter_notebooks/strathRFM/specCTRL.py# StrathRFM\n",
    "Meng project and blah blah blah\n",
    "\n",
    "add text here\n",
    "## TO DO\n",
    "and here\n",
    "\n",
    "## Dependencies\n",
    "strathRFM uses the following libraries and they are required to run. Please connect an, ethernet cable and uncomment the following lines."
   ]
  },
  {
   "cell_type": "code",
   "execution_count": null,
   "id": "4b043798-594c-4b91-a5b8-b89d103c6b35",
   "metadata": {},
   "outputs": [],
   "source": [
    "#!pip install sigmf\n",
    "#!pip install geojson\n",
    "\n",
    "\n",
    "# open a new terminal use command\n",
    "# cd /home/xilinx/jupyter_notebooks/strathRFM\n",
    "# python specCTRL.py"
   ]
  },
  {
   "cell_type": "markdown",
   "id": "7bf4cef0-e116-45f6-962e-f416c9606b03",
   "metadata": {
    "tags": []
   },
   "source": [
    "## strathRFM on RFSoC\n",
    "To run the test widget on the RFSoC please run the code below"
   ]
  },
  {
   "cell_type": "code",
   "execution_count": 12,
   "id": "db21ad65",
   "metadata": {},
   "outputs": [
    {
     "data": {
      "application/vnd.jupyter.widget-view+json": {
       "model_id": "a44f208655d04a5ebd4ebba12cf6d861",
       "version_major": 2,
       "version_minor": 0
      },
      "text/plain": [
       "HBox(children=(VBox(children=(Label(value='strathRFM System Settings:'), HBox(children=(Button(description='st…"
      ]
     },
     "metadata": {},
     "output_type": "display_data"
    }
   ],
   "source": [
    "from spectrumWidgets import spectrumWidgets\n",
    "app = spectrumWidgets()\n",
    "app.AppLayout()"
   ]
  },
  {
   "cell_type": "markdown",
   "id": "605a8d0c-3979-4e4c-b0ae-b75c267d247b",
   "metadata": {},
   "source": [
    "## strathRFM on PC\n",
    "To run the test widget on the PC please run the code below. \n",
    "\n",
    "To ensure correct functioning please follow the following instructions:\n",
    "* Turn on RFSoc and connect with the USB cable\n",
    "* Paste the following path into your explorer\n",
    "    * path: '\\\\192.168.3.1\\xilinx' and hit enter\n",
    "* You will be prompted for username and password, use 'xilinx' for both.\n",
    "\n",
    "Once you have access to the RFSoc home directory you are ready to run this code in Jupyter-Notebooks on the PC and you will be able to controll the settings for the strathRFM.\n",
    "\n",
    "\"as per sambe setting the get frame can update at 10s intervals.\""
   ]
  },
  {
   "cell_type": "code",
   "execution_count": 9,
   "id": "6c207549",
   "metadata": {},
   "outputs": [
    {
     "ename": "KeyError",
     "evalue": "b'full_spectrum_scan'",
     "output_type": "error",
     "traceback": [
      "\u001b[0;31m---------------------------------------------------------------------------\u001b[0m",
      "\u001b[0;31mKeyError\u001b[0m                                  Traceback (most recent call last)",
      "\u001b[0;32m<ipython-input-9-028e202255cb>\u001b[0m in \u001b[0;36m<module>\u001b[0;34m\u001b[0m\n\u001b[1;32m      2\u001b[0m \u001b[0mdata\u001b[0m \u001b[0;34m=\u001b[0m \u001b[0;34mr\"\\\\192.168.3.1\\xilinx\\jupyter_notebooks\\strathRFM\\data.pkl\"\u001b[0m\u001b[0;34m\u001b[0m\u001b[0;34m\u001b[0m\u001b[0m\n\u001b[1;32m      3\u001b[0m \u001b[0;34m\u001b[0m\u001b[0m\n\u001b[0;32m----> 4\u001b[0;31m \u001b[0mapp\u001b[0m \u001b[0;34m=\u001b[0m \u001b[0mspectrumWidgets\u001b[0m\u001b[0;34m(\u001b[0m\u001b[0mconfig\u001b[0m\u001b[0;34m,\u001b[0m\u001b[0mdata\u001b[0m\u001b[0;34m)\u001b[0m\u001b[0;34m\u001b[0m\u001b[0;34m\u001b[0m\u001b[0m\n\u001b[0m\u001b[1;32m      5\u001b[0m \u001b[0mapp\u001b[0m\u001b[0;34m.\u001b[0m\u001b[0mAppLayout\u001b[0m\u001b[0;34m(\u001b[0m\u001b[0;34m)\u001b[0m\u001b[0;34m\u001b[0m\u001b[0;34m\u001b[0m\u001b[0m\n\u001b[1;32m      6\u001b[0m \u001b[0;34m\u001b[0m\u001b[0m\n",
      "\u001b[0;32m/home/xilinx/jupyter_notebooks/strathRFM/spectrumWidgets.py\u001b[0m in \u001b[0;36m__init__\u001b[0;34m(self, _config_Path, _spec_Data_Stream_Path)\u001b[0m\n\u001b[1;32m     86\u001b[0m         \u001b[0mself\u001b[0m\u001b[0;34m.\u001b[0m\u001b[0mout\u001b[0m \u001b[0;34m=\u001b[0m \u001b[0mwidgets\u001b[0m\u001b[0;34m.\u001b[0m\u001b[0mOutput\u001b[0m\u001b[0;34m(\u001b[0m\u001b[0mlayout\u001b[0m\u001b[0;34m=\u001b[0m\u001b[0;34m{\u001b[0m\u001b[0;34m'border'\u001b[0m\u001b[0;34m:\u001b[0m \u001b[0;34m'1px solid black'\u001b[0m\u001b[0;34m}\u001b[0m\u001b[0;34m)\u001b[0m\u001b[0;34m\u001b[0m\u001b[0;34m\u001b[0m\u001b[0m\n\u001b[1;32m     87\u001b[0m         self.full_scan = widgets.Checkbox(description = 'Full Scan',\n\u001b[0;32m---> 88\u001b[0;31m                                           \u001b[0mvalue\u001b[0m \u001b[0;34m=\u001b[0m \u001b[0mself\u001b[0m\u001b[0;34m.\u001b[0m\u001b[0mf\u001b[0m\u001b[0;34m[\u001b[0m\u001b[0;34mb'full_spectrum_scan'\u001b[0m\u001b[0;34m]\u001b[0m\u001b[0;34m,\u001b[0m\u001b[0;34m\u001b[0m\u001b[0;34m\u001b[0m\u001b[0m\n\u001b[0m\u001b[1;32m     89\u001b[0m                                          \u001b[0mindent\u001b[0m \u001b[0;34m=\u001b[0m \u001b[0;32mFalse\u001b[0m\u001b[0;34m,\u001b[0m\u001b[0;34m\u001b[0m\u001b[0;34m\u001b[0m\u001b[0m\n\u001b[1;32m     90\u001b[0m                                          layout=Layout(width = '50%'))\n",
      "\u001b[0;31mKeyError\u001b[0m: b'full_spectrum_scan'"
     ]
    }
   ],
   "source": [
    "config =  r\"\\\\192.168.3.1\\xilinx\\jupyter_notebooks\\strathRFM\\config.pkl\"\n",
    "data = r\"\\\\192.168.3.1\\xilinx\\jupyter_notebooks\\strathRFM\\data.pkl\"\n",
    "\n",
    "app = spectrumWidgets(config,data)\n",
    "app.AppLayout()\n",
    "\n",
    "\n",
    "#from spectrumWidgets import create_config\n",
    "#create_config()"
   ]
  },
  {
   "cell_type": "markdown",
   "id": "e0f44ad7-45e9-4bd5-bfd7-aee9c78842cd",
   "metadata": {},
   "source": [
    "## error handling\n",
    "If there are issues that arise please run the following code, regenerating the config file."
   ]
  },
  {
   "cell_type": "code",
   "execution_count": 8,
   "id": "de356afc-3ffc-4e26-9cf9-ddabb3ba80b2",
   "metadata": {},
   "outputs": [
    {
     "data": {
      "text/plain": [
       "{b'changed': True,\n",
       " b'status': 'idle - running...',\n",
       " b'continuous_scan_enable': False,\n",
       " b'mins': [0, 15, 30, 45],\n",
       " b'single_frame_enable': False,\n",
       " b'start_on_boot': True,\n",
       " b'full_spectrum_scan': False,\n",
       " b'app_enable': True,\n",
       " b'fft_size': 4096,\n",
       " b'centre_frequency': 1024,\n",
       " b'decimation_factor': 2,\n",
       " b'units': 'dBFS',\n",
       " b'window': 'hanning',\n",
       " b'frame_number': 60,\n",
       " b'coordinates': (55.86126, -4.24646),\n",
       " b'enable_time': False,\n",
       " b'date_time': datetime.datetime(2023, 4, 8, 17, 27, 14, 230744)}"
      ]
     },
     "execution_count": 8,
     "metadata": {},
     "output_type": "execute_result"
    }
   ],
   "source": [
    "from spectrumWidgets import unpickleFile, create_config\n",
    "\n",
    "#create_config()\n",
    "_,f = unpickleFile('/home/xilinx/jupyter_notebooks/strathRFM/config.pkl')\n",
    "f"
   ]
  },
  {
   "cell_type": "code",
   "execution_count": null,
   "id": "38d98f8a-6318-4ef9-9a0b-991734b35566",
   "metadata": {},
   "outputs": [],
   "source": []
  },
  {
   "cell_type": "code",
   "execution_count": null,
   "id": "179e1450-848d-4e00-8ddc-1ebed3af0a47",
   "metadata": {},
   "outputs": [],
   "source": []
  }
 ],
 "metadata": {
  "kernelspec": {
   "display_name": "Python 3",
   "language": "python",
   "name": "python3"
  },
  "language_info": {
   "codemirror_mode": {
    "name": "ipython",
    "version": 3
   },
   "file_extension": ".py",
   "mimetype": "text/x-python",
   "name": "python",
   "nbconvert_exporter": "python",
   "pygments_lexer": "ipython3",
   "version": "3.8.2"
  }
 },
 "nbformat": 4,
 "nbformat_minor": 5
}
