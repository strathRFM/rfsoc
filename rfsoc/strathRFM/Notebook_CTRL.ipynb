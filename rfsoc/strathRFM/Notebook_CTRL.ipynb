{
 "cells": [
  {
   "cell_type": "markdown",
   "id": "ca074c86-1b6a-43d5-91bc-563a140f8f22",
   "metadata": {},
   "source": [
    "\n",
    "<p align=\"center\">\n",
    "  <img src=\"other/logo.png\" width=\"50%\" height=\"50%\" />\n",
    "</p>\n",
    "\n",
    "# strath Radio Frequency Mapping\n",
    "\n",
    "## Motivation:\n",
    "\n",
    "Project Motivation: The Radio Frequency (RF) Spectrum has been under increasing pressure in recent years due to a demand for data capacity and bandwidth increasing. The spectrum is a limited resource due to the fact a given space in the spectrum can only be utilised by  one user at a time to prevent inter-channel interference (ICI). Spectrum allocation across the world is primary organised by a countries government, where portions of the spectrum are allocated for specific uses e.g. military or portions can be auctioned. This process allows no ICI to take place but means the spectrum allocation is inefficient due to the users not always utilising the allocated spectrum. This means the allocated space has become static.\n",
    "\n",
    "## Description:\n",
    "strathRFM is a system that can generate datasets of the RF spectrum and map it using the easy to use GUI. The generated dataset will be of sigMF format as in the description of the README file. The currently supported devices are: rtl-sdr, rfsoc 2x2, rfsoc 4x2, ZCU111\n",
    "\n",
    "<p align=\"center\">\n",
    "  <img src=\"other/jupyter.png\" width=\"50%\" height=\"50%\" />\n",
    "</p>\n",
    "\n",
    "## strathRFM on RFSoC\n",
    "To run the test widget directly on the RFSoC please run the code below. (if errors occur follow the instructions om the bottom of this file)."
   ]
  },
  {
   "cell_type": "code",
   "execution_count": null,
   "id": "db21ad65",
   "metadata": {},
   "outputs": [],
   "source": [
    "from spectrumWidgets import spectrumWidgets\n",
    "app = spectrumWidgets()\n",
    "app.AppLayout()"
   ]
  },
  {
   "cell_type": "markdown",
   "id": "605a8d0c-3979-4e4c-b0ae-b75c267d247b",
   "metadata": {},
   "source": [
    "## strathRFM on PC\n",
    "To run the test widget on the PC please run the code below. \n",
    "\n",
    "To ensure correct functioning please follow the following instructions:\n",
    "* Turn on RFSoc and connect with the USB cable\n",
    "* Paste the following path into your explorer\n",
    "    * path: '\\\\192.168.3.1\\xilinx' and hit enter\n",
    "* You will be prompted for username and password, use 'xilinx' for both.\n",
    "\n",
    "Once you have access to the RFSoc home directory you are ready to run this code in Jupyter-Notebooks on the PC and you will be able to controll the settings for the strathRFM.\n",
    "\n",
    "Note: As per samba setting the get frame can update at 10s intervals. if faster samba update is required, please refer to the GitHub readme on how to achieve higher rate samba update."
   ]
  },
  {
   "cell_type": "code",
   "execution_count": null,
   "id": "6c207549",
   "metadata": {},
   "outputs": [],
   "source": [
    "from spectrumWidgets import spectrumWidgets\n",
    "\n",
    "config =  r\"\\\\192.168.3.1\\xilinx\\jupyter_notebooks\\strathRFM\\config.pkl\"\n",
    "data = r\"\\\\192.168.3.1\\xilinx\\jupyter_notebooks\\strathRFM\\data.pkl\"\n",
    "\n",
    "app = spectrumWidgets(config,data)\n",
    "app.AppLayout()"
   ]
  },
  {
   "cell_type": "markdown",
   "id": "e0f44ad7-45e9-4bd5-bfd7-aee9c78842cd",
   "metadata": {},
   "source": [
    "## Error handling\n",
    "If there are issues that arise please run the following code, regenerating the config file."
   ]
  },
  {
   "cell_type": "code",
   "execution_count": null,
   "id": "de356afc-3ffc-4e26-9cf9-ddabb3ba80b2",
   "metadata": {},
   "outputs": [],
   "source": [
    "#from spectrumWidgets import unpickleFile, create_config\n",
    "\n",
    "#create_config()\n",
    "#_,f = unpickleFile('/home/xilinx/jupyter_notebooks/strathRFM/config.pkl')\n",
    "#f"
   ]
  },
  {
   "cell_type": "markdown",
   "id": "b164ec3b",
   "metadata": {},
   "source": [
    "## Dependencies\n",
    "strathRFM uses the following libraries and they are required to run. Please connect an, ethernet cable and uncomment the following lines."
   ]
  },
  {
   "cell_type": "code",
   "execution_count": null,
   "id": "179e1450-848d-4e00-8ddc-1ebed3af0a47",
   "metadata": {},
   "outputs": [],
   "source": [
    "#!pip install sigmf\n",
    "#!pip install geojson\n",
    "\n",
    "\n",
    "# open a new terminal use command\n",
    "# cd /home/xilinx/jupyter_notebooks/strathRFM\n",
    "# python specCTRL.py"
   ]
  }
 ],
 "metadata": {
  "kernelspec": {
   "display_name": "Python 3 (ipykernel)",
   "language": "python",
   "name": "python3"
  },
  "language_info": {
   "codemirror_mode": {
    "name": "ipython",
    "version": 3
   },
   "file_extension": ".py",
   "mimetype": "text/x-python",
   "name": "python",
   "nbconvert_exporter": "python",
   "pygments_lexer": "ipython3",
   "version": "3.8.16"
  }
 },
 "nbformat": 4,
 "nbformat_minor": 5
}
