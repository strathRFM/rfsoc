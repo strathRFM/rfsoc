{
 "cells": [
  {
   "cell_type": "code",
   "execution_count": 11,
   "id": "db21ad65",
   "metadata": {},
   "outputs": [
    {
     "data": {
      "application/vnd.jupyter.widget-view+json": {
       "model_id": "2a9cee1fd38f4d71bbbb19ba6dc6226a",
       "version_major": 2,
       "version_minor": 0
      },
      "text/plain": [
       "HBox(children=(VBox(children=(Label(value='strathRFM System Settings:'), HBox(children=(Button(description='st…"
      ]
     },
     "metadata": {},
     "output_type": "display_data"
    }
   ],
   "source": [
    "from spectrumWidgets import spectrumWidgets\n",
    "app = spectrumWidgets()\n",
    "app.AppLayout()\n"
   ]
  },
  {
   "cell_type": "code",
   "execution_count": 9,
   "id": "272fe38f",
   "metadata": {},
   "outputs": [],
   "source": []
  }
 ],
 "metadata": {
  "kernelspec": {
   "display_name": "Python 3",
   "language": "python",
   "name": "python3"
  },
  "language_info": {
   "codemirror_mode": {
    "name": "ipython",
    "version": 3
   },
   "file_extension": ".py",
   "mimetype": "text/x-python",
   "name": "python",
   "nbconvert_exporter": "python",
   "pygments_lexer": "ipython3",
   "version": "3.8.8"
  }
 },
 "nbformat": 4,
 "nbformat_minor": 5
}
