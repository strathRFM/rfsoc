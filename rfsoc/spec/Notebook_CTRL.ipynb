{
 "cells": [
  {
   "cell_type": "markdown",
   "id": "ca074c86-1b6a-43d5-91bc-563a140f8f22",
   "metadata": {},
   "source": [
    "# StrathRFM\n",
    "Meng project and blah blah blah\n",
    "\n",
    "add text here\n",
    "## TO DO\n",
    "and here\n",
    "\n",
    "## Dependencies\n",
    "strathRFM uses the following libraries and they are required to run. Please connect an, ethernet cable and uncomment the following lines."
   ]
  },
  {
   "cell_type": "code",
   "execution_count": null,
   "id": "4b043798-594c-4b91-a5b8-b89d103c6b35",
   "metadata": {},
   "outputs": [],
   "source": [
    "#!pip install sigmf\n",
    "#!pip install geojson"
   ]
  },
  {
   "cell_type": "markdown",
   "id": "7bf4cef0-e116-45f6-962e-f416c9606b03",
   "metadata": {
    "tags": []
   },
   "source": [
    "## strathRFM on RFSoC\n",
    "To run the test widget on the RFSoC please run the code below"
   ]
  },
  {
   "cell_type": "code",
   "execution_count": 2,
   "id": "db21ad65",
   "metadata": {},
   "outputs": [
    {
     "data": {
      "application/vnd.jupyter.widget-view+json": {
       "model_id": "dfb1e930599e44e39af483b6882ceef2",
       "version_major": 2,
       "version_minor": 0
      },
      "text/plain": [
       "HBox(children=(VBox(children=(Label(value='strathRFM System Settings:'), HBox(children=(Button(description='st…"
      ]
     },
     "metadata": {},
     "output_type": "display_data"
    }
   ],
   "source": [
    "from spectrumWidgets import spectrumWidgets\n",
    "app = spectrumWidgets()\n",
    "app.AppLayout()"
   ]
  },
  {
   "cell_type": "markdown",
   "id": "605a8d0c-3979-4e4c-b0ae-b75c267d247b",
   "metadata": {},
   "source": [
    "## strathRFM on PC\n",
    "To run the test widget on the PC please run the code below. \n",
    "\n",
    "To ensure correct functioning please follow the following instructions:\n",
    "* Turn on RFSoc and connect with the USB cable\n",
    "* Paste the following path into your explorer\n",
    "    * path: '\\\\192.168.3.1\\xilinx' and hit enter\n",
    "* You will be prompted for username and password, use 'xilinx' for both.\n",
    "\n",
    "Once you have access to the RFSoc home directory you are ready to run this code in Jupyter-Notebooks on the PC and you will be able to controll the settings for the strathRFM.\n",
    "\n",
    "\"as per sambe setting the get frame can update at 10s intervals.\""
   ]
  },
  {
   "cell_type": "code",
   "execution_count": 2,
   "id": "6c207549",
   "metadata": {},
   "outputs": [],
   "source": [
    "config =  r\"\\\\192.168.3.1\\xilinx\\jupyter_notebooks\\strathRFM\\config.pkl\"\n",
    "data = r\"\\\\192.168.3.1\\xilinx\\jupyter_notebooks\\strathRFM\\data.pkl\"\n",
    "\n",
    "app = spectrumWidgets(config,data)\n",
    "app.AppLayout()\n",
    "\n",
    "\n",
    "#from spectrumWidgets import create_config\n",
    "#create_config()"
   ]
  },
  {
   "cell_type": "markdown",
   "id": "e0f44ad7-45e9-4bd5-bfd7-aee9c78842cd",
   "metadata": {},
   "source": [
    "## error handling\n",
    "If there are issues that arise please run the following code, regenerating the config file."
   ]
  },
  {
   "cell_type": "code",
   "execution_count": 3,
   "id": "de356afc-3ffc-4e26-9cf9-ddabb3ba80b2",
   "metadata": {},
   "outputs": [
    {
     "data": {
      "text/plain": [
       "{b'changed': True,\n",
       " b'continuous_scan_enable': False,\n",
       " b'mins': [0, 15, 30, 45],\n",
       " b'single_frame_enable': True,\n",
       " b'start_on_boot': False,\n",
       " b'full_spectrum_scan': False,\n",
       " b'app_enable': True,\n",
       " b'stream_data_enable': False,\n",
       " b'fft_size': 4096,\n",
       " b'centre_frequency': 1024.0,\n",
       " b'decimation_factor': 2,\n",
       " b'units': 'dBFS',\n",
       " b'window': 'hamming',\n",
       " b'frame_number': 60,\n",
       " b'coordinates': (0, 0),\n",
       " b'enable_time': True,\n",
       " b'date_time': datetime.datetime(2023, 3, 19, 18, 31)}"
      ]
     },
     "execution_count": 3,
     "metadata": {},
     "output_type": "execute_result"
    }
   ],
   "source": [
    "from spectrumWidgets import unpickleFile\n",
    "\n",
    "_,f = unpickleFile('config.pkl')\n",
    "f"
   ]
  },
  {
   "cell_type": "code",
   "execution_count": 5,
   "id": "38d98f8a-6318-4ef9-9a0b-991734b35566",
   "metadata": {},
   "outputs": [
    {
     "name": "stdout",
     "output_type": "stream",
     "text": [
      "2022-10-21\n",
      "2022-10-21 13:35:00\n"
     ]
    }
   ],
   "source": [
    "from datetime import datetime\n",
    "d = datetime.now().date()\n",
    "print(str(d))\n",
    "t = str(d)+' \"13:35'\n",
    "d = datetime.strptime(t, '%Y-%m-%d %H:%M')\n",
    "\n",
    "print(str(d))"
   ]
  }
 ],
 "metadata": {
  "kernelspec": {
   "display_name": "Python 3 (ipykernel)",
   "language": "python",
   "name": "python3"
  },
  "language_info": {
   "codemirror_mode": {
    "name": "ipython",
    "version": 3
   },
   "file_extension": ".py",
   "mimetype": "text/x-python",
   "name": "python",
   "nbconvert_exporter": "python",
   "pygments_lexer": "ipython3",
   "version": "3.10.4"
  }
 },
 "nbformat": 4,
 "nbformat_minor": 5
}
