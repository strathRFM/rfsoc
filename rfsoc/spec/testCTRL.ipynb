{
 "cells": [
  {
   "cell_type": "code",
   "execution_count": 15,
   "id": "db21ad65",
   "metadata": {},
   "outputs": [
    {
     "data": {
      "application/vnd.jupyter.widget-view+json": {
       "model_id": "d65c8f555e1140bb8923be5a6129f838",
       "version_major": 2,
       "version_minor": 0
      },
      "text/plain": [
       "HBox(children=(VBox(children=(Label(value='strathRFM System Settings:'), HBox(children=(Button(description='st…"
      ]
     },
     "metadata": {},
     "output_type": "display_data"
    }
   ],
   "source": [
    "from spectrumWidgets import spectrumWidgets\n",
    "app = spectrumWidgets()\n",
    "app.AppLayout()\n"
   ]
  },
  {
   "cell_type": "code",
   "execution_count": 10,
   "id": "6c207549",
   "metadata": {},
   "outputs": [],
   "source": [
    "from spectrumWidgets import create_config\n",
    "create_config()"
   ]
  }
 ],
 "metadata": {
  "kernelspec": {
   "display_name": "Python 3",
   "language": "python",
   "name": "python3"
  },
  "language_info": {
   "codemirror_mode": {
    "name": "ipython",
    "version": 3
   },
   "file_extension": ".py",
   "mimetype": "text/x-python",
   "name": "python",
   "nbconvert_exporter": "python",
   "pygments_lexer": "ipython3",
   "version": "3.8.8"
  }
 },
 "nbformat": 4,
 "nbformat_minor": 5
}
