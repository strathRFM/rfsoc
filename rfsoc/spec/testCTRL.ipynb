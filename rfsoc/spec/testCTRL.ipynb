{
 "cells": [
  {
   "cell_type": "code",
   "execution_count": 1,
   "id": "db21ad65",
   "metadata": {},
   "outputs": [
    {
     "data": {
      "application/vnd.jupyter.widget-view+json": {
       "model_id": "c6ce4abf782d44f29b2f5a5314983786",
       "version_major": 2,
       "version_minor": 0
      },
      "text/plain": [
       "HBox(children=(VBox(children=(Label(value='strathRFM System Settings:'), HBox(children=(Button(description='st…"
      ]
     },
     "metadata": {},
     "output_type": "display_data"
    }
   ],
   "source": [
    "\n",
    "# Dependencies\n",
    "#!pip install sigmf\n",
    "#!pip install geojson\n",
    "\n",
    "from spectrumWidgets import spectrumWidgets\n",
    "app = spectrumWidgets()\n",
    "app.AppLayout()\n",
    "\n"
   ]
  },
  {
   "cell_type": "code",
   "execution_count": 2,
   "id": "6c207549",
   "metadata": {},
   "outputs": [],
   "source": [
    "#from spectrumWidgets import create_config\n",
    "#create_config()"
   ]
  },
  {
   "cell_type": "code",
   "execution_count": 3,
   "id": "de356afc-3ffc-4e26-9cf9-ddabb3ba80b2",
   "metadata": {},
   "outputs": [
    {
     "data": {
      "text/plain": [
       "{b'changed': True,\n",
       " b'continuous_scan_enable': False,\n",
       " b'mins': [0, 15, 30, 45],\n",
       " b'single_frame_enable': True,\n",
       " b'start_on_boot': False,\n",
       " b'full_spectrum_scan': False,\n",
       " b'app_enable': True,\n",
       " b'stream_data_enable': False,\n",
       " b'fft_size': 4096,\n",
       " b'centre_frequency': 1024.0,\n",
       " b'decimation_factor': 2,\n",
       " b'units': 'dBFS',\n",
       " b'window': 'hamming',\n",
       " b'frame_number': 60,\n",
       " b'coordinates': (0, 0),\n",
       " b'enable_time': True,\n",
       " b'date_time': datetime.datetime(2023, 3, 19, 18, 31)}"
      ]
     },
     "execution_count": 3,
     "metadata": {},
     "output_type": "execute_result"
    }
   ],
   "source": [
    "from spectrumWidgets import unpickleFile\n",
    "\n",
    "_,f = unpickleFile('config.pkl')\n",
    "f"
   ]
  },
  {
   "cell_type": "code",
   "execution_count": 5,
   "id": "38d98f8a-6318-4ef9-9a0b-991734b35566",
   "metadata": {},
   "outputs": [
    {
     "name": "stdout",
     "output_type": "stream",
     "text": [
      "2022-10-21\n",
      "2022-10-21 13:35:00\n"
     ]
    }
   ],
   "source": [
    "from datetime import datetime\n",
    "d = datetime.now().date()\n",
    "print(str(d))\n",
    "t = str(d)+' \"13:35'\n",
    "d = datetime.strptime(t, '%Y-%m-%d %H:%M')\n",
    "\n",
    "print(str(d))"
   ]
  }
 ],
 "metadata": {
  "kernelspec": {
   "display_name": "Python 3 (ipykernel)",
   "language": "python",
   "name": "python3"
  },
  "language_info": {
   "codemirror_mode": {
    "name": "ipython",
    "version": 3
   },
   "file_extension": ".py",
   "mimetype": "text/x-python",
   "name": "python",
   "nbconvert_exporter": "python",
   "pygments_lexer": "ipython3",
   "version": "3.10.4"
  }
 },
 "nbformat": 4,
 "nbformat_minor": 5
}
