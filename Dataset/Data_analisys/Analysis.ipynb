{
 "cells": [
  {
   "cell_type": "code",
   "execution_count": null,
   "id": "873fbc41",
   "metadata": {},
   "outputs": [],
   "source": [
    "from Analysis import analysis   "
   ]
  },
  {
   "cell_type": "code",
   "execution_count": null,
   "id": "4b256ad2",
   "metadata": {},
   "outputs": [],
   "source": [
    "\n",
    "an = analysis(_samples_to_average = 24*2,_line_fit_order = 12)\n",
    "an.get_dataset_files()\n"
   ]
  },
  {
   "cell_type": "code",
   "execution_count": null,
   "id": "8990e55e",
   "metadata": {},
   "outputs": [],
   "source": [
    "# show frame, threshold and binary.\n",
    "an.setSigmfData('full_dataset/03/S_11-03-23_22')\n",
    "an.get_threshold(5)\n",
    "an.plot_test_file(mode='inline')\n"
   ]
  },
  {
   "cell_type": "code",
   "execution_count": null,
   "id": "5de1fe29",
   "metadata": {
    "scrolled": true
   },
   "outputs": [],
   "source": [
    "an = analysis(_samples_to_average = 24*14) # use 14 days for threshold generation\n",
    "an.get_dataset_files()\n",
    "an.get_dataset()\n",
    "an.get_threshold(5) # use different threshold and binarize dataset\n",
    "\n",
    "an.plot_test_file(mode='inline',idx = 55)\n",
    "an.binarize_dataset()\n",
    "an.plot_dataset(mode='inline', processing = 'binarized')\n",
    "an.plot_binarized_usage(mode = 'inline')"
   ]
  },
  {
   "cell_type": "code",
   "execution_count": null,
   "id": "8fdd215c",
   "metadata": {},
   "outputs": [],
   "source": [
    "an.plot_dataset(mode='qt', processing = 'binarized')"
   ]
  },
  {
   "cell_type": "code",
   "execution_count": null,
   "id": "5bd15b0f",
   "metadata": {
    "scrolled": true
   },
   "outputs": [],
   "source": [
    "# define services to filer out using the json file\n",
    "\n",
    "#s_blist = ['Public sector','Licence exempt','N/A','PMSE']\n",
    "s_blist = ['Public sector']\n",
    "u_blist = ['Military']\n",
    "an.set_blacklist([],[])\n",
    "an.set_lookuplist(['Mobile'],[])\n",
    "\n",
    "an.filter_f_axis() # filters using the loopul list and blacklist to show only required data\n",
    "an.plot_f_axis(mode = 'inline') # plots the showed frequencies position\n",
    "#an.plot_dataset(mode='inline', processing = 'binarized')\n",
    "an.plot_binarized_usage('qt')"
   ]
  },
  {
   "cell_type": "code",
   "execution_count": null,
   "id": "4088b8ca",
   "metadata": {},
   "outputs": [],
   "source": [
    "an.plot_dataset(mode='qt', processing = '')"
   ]
  },
  {
   "cell_type": "code",
   "execution_count": null,
   "id": "88209891",
   "metadata": {},
   "outputs": [],
   "source": [
    "an = analysis()\n",
    "an.get_dataset_files()\n",
    "an.get_dataset()\n",
    "an.plot_dataset(mode = 'inline')"
   ]
  },
  {
   "cell_type": "code",
   "execution_count": null,
   "id": "0e4ce496",
   "metadata": {},
   "outputs": [],
   "source": [
    "samp = 6550\n",
    "an.plot_f_time(findex = samp,ssample = 0, esample= 1009, mode = 'qt')\n",
    "an.plot_f_time(findex = samp,ssample = 0, esample= 1009, processing = 'ewm', span = 20, mode = 'qt')"
   ]
  },
  {
   "cell_type": "code",
   "execution_count": null,
   "id": "a3988e0d",
   "metadata": {},
   "outputs": [],
   "source": [
    "an = analysis()\n",
    "an.get_dataset_files() # just prints out statistics\n",
    "an.get_dataset()\n",
    "an.decimate_dataset(dec_to = 2048, mode = 'max') # max performs maximum operation within the decimation to preserve data\n",
    "an.plot_dataset(mode='qt')"
   ]
  },
  {
   "cell_type": "code",
   "execution_count": null,
   "id": "a97f4d20",
   "metadata": {},
   "outputs": [],
   "source": [
    "\n",
    "an = analysis()\n",
    "an.get_dataset_files() # just prints out statistics\n",
    "an.get_dataset()\n",
    "an.plot3D() # plots 0 to 23 samples "
   ]
  },
  {
   "cell_type": "code",
   "execution_count": null,
   "id": "8989c6f6",
   "metadata": {},
   "outputs": [],
   "source": [
    "# if the dataset is loaded it can be plotted from any sample to any\n",
    "an.plot3D(mode = 'inline',dec_to = 512, ssample = 500, esample = 510)"
   ]
  },
  {
   "cell_type": "code",
   "execution_count": null,
   "id": "c288016c",
   "metadata": {},
   "outputs": [],
   "source": [
    "# the analisys class cna unzip tar files \n",
    "# specify file path and destination path\n",
    "# unzip datasets\n",
    "an = analysis()\n",
    "an.unzipTar('spectrum_data.tar.gz','full_dataset')\n",
    "an.unzipTar('spectrum_data_w8.tar.gz','full_dataset')\n",
    "an.unzipTar('dennistoun_w9.tar.gz','full_dataset')\n",
    "an.unzipTar('dennistoun_w10.tar.gz','full_dataset')\n",
    "an.unzipTar('dennistoun_w11.tar.gz','full_dataset')"
   ]
  },
  {
   "cell_type": "code",
   "execution_count": null,
   "id": "2afa0410",
   "metadata": {},
   "outputs": [],
   "source": [
    "\n",
    "an.plot_binarized_usage('qt')"
   ]
  },
  {
   "cell_type": "code",
   "execution_count": null,
   "id": "e744e2df",
   "metadata": {},
   "outputs": [],
   "source": []
  }
 ],
 "metadata": {
  "kernelspec": {
   "display_name": "Python 3 (ipykernel)",
   "language": "python",
   "name": "python3"
  },
  "language_info": {
   "codemirror_mode": {
    "name": "ipython",
    "version": 3
   },
   "file_extension": ".py",
   "mimetype": "text/x-python",
   "name": "python",
   "nbconvert_exporter": "python",
   "pygments_lexer": "ipython3",
   "version": "3.8.16"
  }
 },
 "nbformat": 4,
 "nbformat_minor": 5
}
